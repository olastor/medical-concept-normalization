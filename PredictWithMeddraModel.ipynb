{
 "cells": [
  {
   "cell_type": "markdown",
   "metadata": {},
   "source": [
    "Example usage of how to load model and predict a set of MedDRA terms using. You need to download and unpack the meddra package using your subscription login."
   ]
  },
  {
   "cell_type": "code",
   "execution_count": 9,
   "metadata": {},
   "outputs": [],
   "source": [
    "from transformers import BertTokenizer, BertForSequenceClassification\n",
    "from os import path\n",
    "import pandas as pd\n",
    "import numpy as np\n",
    "import torch\n",
    "import json"
   ]
  },
  {
   "cell_type": "code",
   "execution_count": 10,
   "metadata": {},
   "outputs": [],
   "source": [
    "MEDDRA_DIR_EN = '' # set this to the meddra directory containing the ascii files"
   ]
  },
  {
   "cell_type": "code",
   "execution_count": 11,
   "metadata": {},
   "outputs": [],
   "source": [
    "MODEL_NAME_OR_DIR = 'olastor/mcn-en-smm4h' # adjust model here\n",
    "DATA_DIR = './data/smm4h/smm4h/' # set to corresponding dataset folder with labels.json"
   ]
  },
  {
   "cell_type": "code",
   "execution_count": 12,
   "metadata": {},
   "outputs": [],
   "source": [
    "# load meddra data to display name of labels\n",
    "cols_pt = 'pt_code,pt_name,null_field,pt_soc_code,pt_whoart_code,pt_harts_code,pt_costart_sym,pt_icd9_code,pt_icd9cm_code,pt_icd10_code,pt_jart_code'\n",
    "df_pt_de = pd.read_csv(\n",
    "    path.join(MEDDRA_DIR_EN, 'pt.asc'), \n",
    "    sep='$', \n",
    "    encoding='latin-1', \n",
    "    names=cols_pt.split(','), \n",
    "    index_col=False\n",
    ")"
   ]
  },
  {
   "cell_type": "code",
   "execution_count": 13,
   "metadata": {},
   "outputs": [],
   "source": [
    "tokenizer = BertTokenizer.from_pretrained(MODEL_NAME_OR_DIR)\n",
    "model = BertForSequenceClassification.from_pretrained(MODEL_NAME_OR_DIR)\n",
    "\n",
    "with open(path.join(DATA_DIR, 'labels.json')) as f:\n",
    "    labels = json.loads(f.read())"
   ]
  },
  {
   "cell_type": "code",
   "execution_count": 14,
   "metadata": {},
   "outputs": [],
   "source": [
    "pt_code_to_name = { row.pt_code: row.pt_name for row in df_pt_de.itertuples() }\n",
    "\n",
    "def predict_meddra(input_sequence: str, top_n: int = 10):\n",
    "    # encode sentence\n",
    "    inputs = tokenizer.encode_plus(input_sequence, add_special_tokens=True, return_tensors='pt')\n",
    "\n",
    "    # calculate predictions\n",
    "    preds = model(inputs['input_ids'], token_type_ids=inputs['token_type_ids'])[0]\n",
    "\n",
    "    # sort predictions by their score\n",
    "    indices = np.array(preds.sort(descending=True).indices[0])\n",
    "    \n",
    "    for k, i in enumerate(indices[:top_n]):\n",
    "        try:\n",
    "            label = labels[i]\n",
    "            print('%i. %s (%s)' % (k + 1, pt_code_to_name[int(label)], label))\n",
    "        except:\n",
    "            print('%i ERROR' % (k + 1))"
   ]
  },
  {
   "cell_type": "code",
   "execution_count": 15,
   "metadata": {},
   "outputs": [
    {
     "name": "stdout",
     "output_type": "stream",
     "text": [
      "1. Nightmare (10029412)\n",
      "2. Abnormal dreams (10000125)\n",
      "3. Crying (10011469)\n"
     ]
    }
   ],
   "source": [
    "predict_meddra('Last night I had a bad dream!', 3)"
   ]
  }
 ],
 "metadata": {
  "kernelspec": {
   "display_name": "Python 3",
   "language": "python",
   "name": "python3"
  },
  "language_info": {
   "codemirror_mode": {
    "name": "ipython",
    "version": 3
   },
   "file_extension": ".py",
   "mimetype": "text/x-python",
   "name": "python",
   "nbconvert_exporter": "python",
   "pygments_lexer": "ipython3",
   "version": "3.8.5"
  }
 },
 "nbformat": 4,
 "nbformat_minor": 2
}
