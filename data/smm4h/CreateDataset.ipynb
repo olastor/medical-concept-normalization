{
 "cells": [
  {
   "cell_type": "markdown",
   "metadata": {},
   "source": [
    "# SMM4H\n",
    "\n",
    "This notebook contains code to:\n",
    "\n",
    "- load the SMM4H data\n",
    "- identify labels that are not current in the MedDRA version loaded as well\n",
    "- use pt level for labels\n",
    "- convert data to tsv and export"
   ]
  },
  {
   "cell_type": "code",
   "execution_count": 1,
   "metadata": {},
   "outputs": [],
   "source": [
    "import pandas as pd\n",
    "from glob import glob\n",
    "from os import path\n",
    "import pandas as pd\n",
    "import json"
   ]
  },
  {
   "cell_type": "code",
   "execution_count": 4,
   "metadata": {},
   "outputs": [],
   "source": [
    "MEDDRA_DIR = '../meddra/meddra_23_0_english_update/MedAscii/' # <- you'll need a meddra subscription to get the latest archive\n",
    "OUTPUT_DIR = './smm4h'"
   ]
  },
  {
   "cell_type": "code",
   "execution_count": 5,
   "metadata": {},
   "outputs": [],
   "source": [
    "# load MedDRA LLTs\n",
    "names = 'llt_code,llt_name,pt_code,llt_whoart_code,llt_harts_code,llt_costart_sym,llt_icd9_code,llt_icd9cm_code,llt_icd10_code,llt_currency,llt_jart_code'.split(',')\n",
    "df_llt = pd.read_csv(\n",
    "    path.join(MEDDRA_DIR, 'llt.asc'), \n",
    "    sep='$', \n",
    "    encoding='latin-1', \n",
    "    names=names, \n",
    "    index_col=False\n",
    ")"
   ]
  },
  {
   "cell_type": "code",
   "execution_count": 6,
   "metadata": {},
   "outputs": [],
   "source": [
    "UNK = 'MEDDRA PT' # Identifier for missing PTs in SMM4H"
   ]
  },
  {
   "cell_type": "code",
   "execution_count": 7,
   "metadata": {},
   "outputs": [],
   "source": [
    "# Mapping: LLT -> PT\n",
    "llt_to_pt = { row.llt_code: row.pt_code for row in df_llt.itertuples() }"
   ]
  },
  {
   "cell_type": "code",
   "execution_count": 8,
   "metadata": {},
   "outputs": [],
   "source": [
    "# load training data\n",
    "df_all = []\n",
    "for file in glob('./subtask3/task_3_normalization_training*'):\n",
    "    df = pd.read_csv(file, sep='\\t', names=['idx', 'text', 'llt_code'])\n",
    "    df_all.append(df)\n",
    "\n",
    "df_train = pd.concat(df_all)"
   ]
  },
  {
   "cell_type": "code",
   "execution_count": 9,
   "metadata": {},
   "outputs": [],
   "source": [
    "# load test data\n",
    "df_test = pd.read_csv('./subtask3/task_3_normalization_evaluation.txt', sep='\\t', names=['idx', 'text', 'llt_code'])"
   ]
  },
  {
   "cell_type": "code",
   "execution_count": 10,
   "metadata": {},
   "outputs": [],
   "source": [
    "# normalize all codes to pt level\n",
    "df_train['pt_code'] = df_train.llt_code.apply(lambda x: llt_to_pt[int(x)] if int(x) in llt_to_pt else UNK)\n",
    "df_test['pt_code'] = df_test.llt_code.apply(lambda x: llt_to_pt[int(x)] if x != UNK and int(x) in llt_to_pt else UNK)"
   ]
  },
  {
   "cell_type": "code",
   "execution_count": 11,
   "metadata": {},
   "outputs": [],
   "source": [
    "# create set of labels\n",
    "labels = [str(x) for x in set(df_train.pt_code.to_list() + df_test.pt_code.to_list())]"
   ]
  },
  {
   "cell_type": "code",
   "execution_count": 12,
   "metadata": {},
   "outputs": [
    {
     "data": {
      "text/plain": [
       "1195"
      ]
     },
     "execution_count": 12,
     "metadata": {},
     "output_type": "execute_result"
    }
   ],
   "source": [
    "# additional dataframe with unique training items\n",
    "df_test_uniq = df_test.drop_duplicates(subset=['text', 'pt_code'])\n",
    "len(df_test_uniq)"
   ]
  },
  {
   "cell_type": "code",
   "execution_count": 13,
   "metadata": {},
   "outputs": [],
   "source": [
    "# export to tsv files\n",
    "with open(path.join(OUTPUT_DIR, 'labels.json'), 'w') as f:\n",
    "    f.write(json.dumps(labels))\n",
    "\n",
    "df_train[['pt_code', 'text']].to_csv(path.join(OUTPUT_DIR,'train.tsv'), sep='\\t', index=False, header=False)\n",
    "df_test[['pt_code', 'text']].to_csv(path.join(OUTPUT_DIR,'test.tsv'), sep='\\t', index=False, header=False)\n",
    "df_test_uniq[['pt_code', 'text']].to_csv(path.join(OUTPUT_DIR,'test_unique.tsv'), sep='\\t', index=False, header=False)"
   ]
  },
  {
   "cell_type": "code",
   "execution_count": 14,
   "metadata": {},
   "outputs": [],
   "source": [
    "# export to global tsv file\n",
    "pd.concat([df_train, df_test]).drop_duplicates(subset=['pt_code', 'text'])[['pt_code', 'text']].to_csv('./smm4h_pt.tsv', sep='\\t', index=False, header=False)\n",
    "pd.concat([df_train, df_test]).drop_duplicates(subset=['pt_code', 'text'])[['llt_code', 'text']].to_csv('./smm4h_llt.tsv', sep='\\t', index=False, header=False)"
   ]
  },
  {
   "cell_type": "code",
   "execution_count": 15,
   "metadata": {},
   "outputs": [
    {
     "data": {
      "text/plain": [
       "22"
      ]
     },
     "execution_count": 15,
     "metadata": {},
     "output_type": "execute_result"
    }
   ],
   "source": [
    "# show number of entries with different llt and pt code\n",
    "len(df_train[df_train.pt_code != df_train.llt_code])"
   ]
  },
  {
   "cell_type": "code",
   "execution_count": 16,
   "metadata": {},
   "outputs": [
    {
     "data": {
      "text/html": [
       "<div>\n",
       "<style scoped>\n",
       "    .dataframe tbody tr th:only-of-type {\n",
       "        vertical-align: middle;\n",
       "    }\n",
       "\n",
       "    .dataframe tbody tr th {\n",
       "        vertical-align: top;\n",
       "    }\n",
       "\n",
       "    .dataframe thead th {\n",
       "        text-align: right;\n",
       "    }\n",
       "</style>\n",
       "<table border=\"1\" class=\"dataframe\">\n",
       "  <thead>\n",
       "    <tr style=\"text-align: right;\">\n",
       "      <th></th>\n",
       "      <th>idx</th>\n",
       "      <th>text</th>\n",
       "      <th>llt_code</th>\n",
       "      <th>pt_code</th>\n",
       "    </tr>\n",
       "  </thead>\n",
       "  <tbody>\n",
       "    <tr>\n",
       "      <th>180</th>\n",
       "      <td>40211</td>\n",
       "      <td>gives me acne</td>\n",
       "      <td>10000497</td>\n",
       "      <td>MEDDRA PT</td>\n",
       "    </tr>\n",
       "    <tr>\n",
       "      <th>487</th>\n",
       "      <td>41139</td>\n",
       "      <td>screwed my endocrine system</td>\n",
       "      <td>10014698</td>\n",
       "      <td>MEDDRA PT</td>\n",
       "    </tr>\n",
       "    <tr>\n",
       "      <th>1323</th>\n",
       "      <td>44982</td>\n",
       "      <td>teeth to decay</td>\n",
       "      <td>10044027</td>\n",
       "      <td>10012318</td>\n",
       "    </tr>\n",
       "    <tr>\n",
       "      <th>1527</th>\n",
       "      <td>41138</td>\n",
       "      <td>endocrine system weird</td>\n",
       "      <td>10014698</td>\n",
       "      <td>MEDDRA PT</td>\n",
       "    </tr>\n",
       "    <tr>\n",
       "      <th>1829</th>\n",
       "      <td>42044</td>\n",
       "      <td>stronger than 3 men</td>\n",
       "      <td>10020610</td>\n",
       "      <td>10020564</td>\n",
       "    </tr>\n",
       "  </tbody>\n",
       "</table>\n",
       "</div>"
      ],
      "text/plain": [
       "        idx                         text  llt_code    pt_code\n",
       "180   40211                gives me acne  10000497  MEDDRA PT\n",
       "487   41139  screwed my endocrine system  10014698  MEDDRA PT\n",
       "1323  44982               teeth to decay  10044027   10012318\n",
       "1527  41138       endocrine system weird  10014698  MEDDRA PT\n",
       "1829  42044          stronger than 3 men  10020610   10020564"
      ]
     },
     "execution_count": 16,
     "metadata": {},
     "output_type": "execute_result"
    }
   ],
   "source": [
    "# show changes in test set\n",
    "df_test[df_test.pt_code.astype(str) != df_test.llt_code.astype(str)]"
   ]
  },
  {
   "cell_type": "code",
   "execution_count": 17,
   "metadata": {},
   "outputs": [
    {
     "data": {
      "text/html": [
       "<div>\n",
       "<style scoped>\n",
       "    .dataframe tbody tr th:only-of-type {\n",
       "        vertical-align: middle;\n",
       "    }\n",
       "\n",
       "    .dataframe tbody tr th {\n",
       "        vertical-align: top;\n",
       "    }\n",
       "\n",
       "    .dataframe thead th {\n",
       "        text-align: right;\n",
       "    }\n",
       "</style>\n",
       "<table border=\"1\" class=\"dataframe\">\n",
       "  <thead>\n",
       "    <tr style=\"text-align: right;\">\n",
       "      <th></th>\n",
       "      <th>idx</th>\n",
       "      <th>text</th>\n",
       "      <th>llt_code</th>\n",
       "      <th>pt_code</th>\n",
       "    </tr>\n",
       "  </thead>\n",
       "  <tbody>\n",
       "    <tr>\n",
       "      <th>0</th>\n",
       "      <td>44675</td>\n",
       "      <td>sleepier</td>\n",
       "      <td>10041349</td>\n",
       "      <td>10041349</td>\n",
       "    </tr>\n",
       "    <tr>\n",
       "      <th>1</th>\n",
       "      <td>40103</td>\n",
       "      <td>dreamt colors</td>\n",
       "      <td>10000125</td>\n",
       "      <td>10000125</td>\n",
       "    </tr>\n",
       "    <tr>\n",
       "      <th>2</th>\n",
       "      <td>41585</td>\n",
       "      <td>zombie</td>\n",
       "      <td>10016322</td>\n",
       "      <td>10016322</td>\n",
       "    </tr>\n",
       "    <tr>\n",
       "      <th>3</th>\n",
       "      <td>41834</td>\n",
       "      <td>headache</td>\n",
       "      <td>10019211</td>\n",
       "      <td>10019211</td>\n",
       "    </tr>\n",
       "    <tr>\n",
       "      <th>4</th>\n",
       "      <td>46301</td>\n",
       "      <td>crazy</td>\n",
       "      <td>10061920</td>\n",
       "      <td>10061920</td>\n",
       "    </tr>\n",
       "    <tr>\n",
       "      <th>...</th>\n",
       "      <td>...</td>\n",
       "      <td>...</td>\n",
       "      <td>...</td>\n",
       "      <td>...</td>\n",
       "    </tr>\n",
       "    <tr>\n",
       "      <th>2487</th>\n",
       "      <td>43514</td>\n",
       "      <td>can't even orgasm</td>\n",
       "      <td>10024870</td>\n",
       "      <td>10024870</td>\n",
       "    </tr>\n",
       "    <tr>\n",
       "      <th>2488</th>\n",
       "      <td>41185</td>\n",
       "      <td>eye problem</td>\n",
       "      <td>10015916</td>\n",
       "      <td>10015916</td>\n",
       "    </tr>\n",
       "    <tr>\n",
       "      <th>2492</th>\n",
       "      <td>43109</td>\n",
       "      <td>no sleeps</td>\n",
       "      <td>10022437</td>\n",
       "      <td>10022437</td>\n",
       "    </tr>\n",
       "    <tr>\n",
       "      <th>2495</th>\n",
       "      <td>44530</td>\n",
       "      <td>sleptwalk</td>\n",
       "      <td>10041347</td>\n",
       "      <td>10041347</td>\n",
       "    </tr>\n",
       "    <tr>\n",
       "      <th>2498</th>\n",
       "      <td>44667</td>\n",
       "      <td>out of it</td>\n",
       "      <td>10041349</td>\n",
       "      <td>10041349</td>\n",
       "    </tr>\n",
       "  </tbody>\n",
       "</table>\n",
       "<p>1195 rows × 4 columns</p>\n",
       "</div>"
      ],
      "text/plain": [
       "        idx               text  llt_code   pt_code\n",
       "0     44675           sleepier  10041349  10041349\n",
       "1     40103      dreamt colors  10000125  10000125\n",
       "2     41585             zombie  10016322  10016322\n",
       "3     41834           headache  10019211  10019211\n",
       "4     46301              crazy  10061920  10061920\n",
       "...     ...                ...       ...       ...\n",
       "2487  43514  can't even orgasm  10024870  10024870\n",
       "2488  41185        eye problem  10015916  10015916\n",
       "2492  43109          no sleeps  10022437  10022437\n",
       "2495  44530          sleptwalk  10041347  10041347\n",
       "2498  44667          out of it  10041349  10041349\n",
       "\n",
       "[1195 rows x 4 columns]"
      ]
     },
     "execution_count": 17,
     "metadata": {},
     "output_type": "execute_result"
    }
   ],
   "source": [
    "df_test.drop_duplicates(subset=['text', 'pt_code'])"
   ]
  }
 ],
 "metadata": {
  "kernelspec": {
   "display_name": "Python 3",
   "language": "python",
   "name": "python3"
  },
  "language_info": {
   "codemirror_mode": {
    "name": "ipython",
    "version": 3
   },
   "file_extension": ".py",
   "mimetype": "text/x-python",
   "name": "python",
   "nbconvert_exporter": "python",
   "pygments_lexer": "ipython3",
   "version": "3.8.5"
  }
 },
 "nbformat": 4,
 "nbformat_minor": 4
}
