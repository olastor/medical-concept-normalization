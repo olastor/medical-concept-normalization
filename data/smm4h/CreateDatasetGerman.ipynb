{
 "cells": [
  {
   "cell_type": "markdown",
   "metadata": {},
   "source": [
    "# SMM4H-DE\n",
    "\n",
    "This notebook contains code to:\n",
    "\n",
    "- load the previously created tsv files\n",
    "- replace text with german translations created with DeepL API"
   ]
  },
  {
   "cell_type": "code",
   "execution_count": 1,
   "metadata": {},
   "outputs": [],
   "source": [
    "import pandas as pd\n",
    "import json"
   ]
  },
  {
   "cell_type": "code",
   "execution_count": 2,
   "metadata": {},
   "outputs": [],
   "source": [
    "df_train = pd.read_csv('../smm4h/smm4h/train.tsv', sep='\\t', names=['pt_code', 'text'])\n",
    "df_test = pd.read_csv('../smm4h/smm4h/test.tsv', sep='\\t', names=['pt_code', 'text'])"
   ]
  },
  {
   "cell_type": "code",
   "execution_count": 3,
   "metadata": {},
   "outputs": [],
   "source": [
    "with open('translations.json') as f:\n",
    "    translations = json.loads(f.read())\n",
    "\n",
    "translations = { k: json.loads(v) for k, v in translations.items() }"
   ]
  },
  {
   "cell_type": "code",
   "execution_count": 4,
   "metadata": {},
   "outputs": [],
   "source": [
    "df_train['text_de'] = df_train.text.apply(lambda x: translations[x]['translations'][0]['text'])\n",
    "df_test['text_de'] = df_test.text.apply(lambda x: translations[x]['translations'][0]['text'])"
   ]
  },
  {
   "cell_type": "code",
   "execution_count": 5,
   "metadata": {},
   "outputs": [],
   "source": [
    "df_train[['pt_code', 'text_de']].to_csv('./smm4h-de/train.tsv', sep='\\t', index=False, header=False)\n",
    "df_test[['pt_code', 'text_de']].to_csv('./smm4h-de/test.tsv', sep='\\t', index=False, header=False)"
   ]
  },
  {
   "cell_type": "code",
   "execution_count": 6,
   "metadata": {},
   "outputs": [],
   "source": [
    "df_all = pd.concat([ df_train, df_test ])\n",
    "df_all.to_csv('smm4h-de.tsv', sep='\\t', index=False, header=False)\n",
    "df_all.to_csv('smm4h-de.csv')"
   ]
  }
 ],
 "metadata": {
  "kernelspec": {
   "display_name": "Python 3",
   "language": "python",
   "name": "python3"
  },
  "language_info": {
   "codemirror_mode": {
    "name": "ipython",
    "version": 3
   },
   "file_extension": ".py",
   "mimetype": "text/x-python",
   "name": "python",
   "nbconvert_exporter": "python",
   "pygments_lexer": "ipython3",
   "version": "3.8.5"
  }
 },
 "nbformat": 4,
 "nbformat_minor": 4
}
